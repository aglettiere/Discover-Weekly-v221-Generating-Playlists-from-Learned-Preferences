{
 "cells": [
  {
   "cell_type": "code",
   "execution_count": null,
   "metadata": {},
   "outputs": [
    {
     "name": "stdout",
     "output_type": "stream",
     "text": [
      "Reading File Data!\n",
      "\n",
      "['NULL', 'Pop', 'Alternative', 'Blues', 'R&B', 'World', 'Dance', 'Soul', 'Hip-Hop', 'Reggae', 'Country', 'Electronic', 'Rock', 'Comedy', 'Folk', 'Jazz', 'Ska', 'Rap', 'Reggaeton', 'Indie', 'Classical', 'Soundtrack', 'Opera', 'Movie', 'A Capella']\n",
      "25\n",
      "Pop\n"
     ]
    },
    {
     "name": "stderr",
     "output_type": "stream",
     "text": [
      "/anaconda3/lib/python3.7/site-packages/sklearn/linear_model/logistic.py:433: FutureWarning: Default solver will be changed to 'lbfgs' in 0.22. Specify a solver to silence this warning.\n",
      "  FutureWarning)\n"
     ]
    },
    {
     "name": "stdout",
     "output_type": "stream",
     "text": [
      "Pop\n",
      "6022\n",
      "Alternative\n"
     ]
    },
    {
     "name": "stderr",
     "output_type": "stream",
     "text": [
      "/anaconda3/lib/python3.7/site-packages/sklearn/linear_model/logistic.py:433: FutureWarning: Default solver will be changed to 'lbfgs' in 0.22. Specify a solver to silence this warning.\n",
      "  FutureWarning)\n"
     ]
    },
    {
     "name": "stdout",
     "output_type": "stream",
     "text": [
      "Alternative\n",
      "5300\n",
      "Blues\n"
     ]
    },
    {
     "name": "stderr",
     "output_type": "stream",
     "text": [
      "/anaconda3/lib/python3.7/site-packages/sklearn/linear_model/logistic.py:433: FutureWarning: Default solver will be changed to 'lbfgs' in 0.22. Specify a solver to silence this warning.\n",
      "  FutureWarning)\n"
     ]
    },
    {
     "name": "stdout",
     "output_type": "stream",
     "text": [
      "Blues\n",
      "3295\n",
      "R&B\n"
     ]
    },
    {
     "name": "stderr",
     "output_type": "stream",
     "text": [
      "/anaconda3/lib/python3.7/site-packages/sklearn/linear_model/logistic.py:433: FutureWarning: Default solver will be changed to 'lbfgs' in 0.22. Specify a solver to silence this warning.\n",
      "  FutureWarning)\n"
     ]
    },
    {
     "name": "stdout",
     "output_type": "stream",
     "text": [
      "R&B\n",
      "4869\n",
      "World\n"
     ]
    },
    {
     "name": "stderr",
     "output_type": "stream",
     "text": [
      "/anaconda3/lib/python3.7/site-packages/sklearn/linear_model/logistic.py:433: FutureWarning: Default solver will be changed to 'lbfgs' in 0.22. Specify a solver to silence this warning.\n",
      "  FutureWarning)\n"
     ]
    },
    {
     "name": "stdout",
     "output_type": "stream",
     "text": [
      "World\n",
      "8038\n",
      "Dance\n"
     ]
    },
    {
     "name": "stderr",
     "output_type": "stream",
     "text": [
      "/anaconda3/lib/python3.7/site-packages/sklearn/linear_model/logistic.py:433: FutureWarning: Default solver will be changed to 'lbfgs' in 0.22. Specify a solver to silence this warning.\n",
      "  FutureWarning)\n"
     ]
    },
    {
     "name": "stdout",
     "output_type": "stream",
     "text": [
      "Dance\n",
      "8298\n",
      "Soul\n"
     ]
    },
    {
     "name": "stderr",
     "output_type": "stream",
     "text": [
      "/anaconda3/lib/python3.7/site-packages/sklearn/linear_model/logistic.py:433: FutureWarning: Default solver will be changed to 'lbfgs' in 0.22. Specify a solver to silence this warning.\n",
      "  FutureWarning)\n"
     ]
    },
    {
     "name": "stdout",
     "output_type": "stream",
     "text": [
      "Soul\n",
      "5058\n",
      "Hip-Hop\n"
     ]
    },
    {
     "name": "stderr",
     "output_type": "stream",
     "text": [
      "/anaconda3/lib/python3.7/site-packages/sklearn/linear_model/logistic.py:433: FutureWarning: Default solver will be changed to 'lbfgs' in 0.22. Specify a solver to silence this warning.\n",
      "  FutureWarning)\n"
     ]
    },
    {
     "name": "stdout",
     "output_type": "stream",
     "text": [
      "Hip-Hop\n",
      "2285\n",
      "Reggae\n"
     ]
    },
    {
     "name": "stderr",
     "output_type": "stream",
     "text": [
      "/anaconda3/lib/python3.7/site-packages/sklearn/linear_model/logistic.py:433: FutureWarning: Default solver will be changed to 'lbfgs' in 0.22. Specify a solver to silence this warning.\n",
      "  FutureWarning)\n"
     ]
    },
    {
     "name": "stdout",
     "output_type": "stream",
     "text": [
      "Reggae\n",
      "8711\n",
      "Country\n"
     ]
    },
    {
     "name": "stderr",
     "output_type": "stream",
     "text": [
      "/anaconda3/lib/python3.7/site-packages/sklearn/linear_model/logistic.py:433: FutureWarning: Default solver will be changed to 'lbfgs' in 0.22. Specify a solver to silence this warning.\n",
      "  FutureWarning)\n"
     ]
    },
    {
     "name": "stdout",
     "output_type": "stream",
     "text": [
      "Country\n",
      "7325\n",
      "Electronic\n"
     ]
    },
    {
     "name": "stderr",
     "output_type": "stream",
     "text": [
      "/anaconda3/lib/python3.7/site-packages/sklearn/linear_model/logistic.py:433: FutureWarning: Default solver will be changed to 'lbfgs' in 0.22. Specify a solver to silence this warning.\n",
      "  FutureWarning)\n"
     ]
    },
    {
     "name": "stdout",
     "output_type": "stream",
     "text": [
      "Electronic\n",
      "9149\n",
      "Rock\n"
     ]
    },
    {
     "name": "stderr",
     "output_type": "stream",
     "text": [
      "/anaconda3/lib/python3.7/site-packages/sklearn/linear_model/logistic.py:433: FutureWarning: Default solver will be changed to 'lbfgs' in 0.22. Specify a solver to silence this warning.\n",
      "  FutureWarning)\n"
     ]
    },
    {
     "name": "stdout",
     "output_type": "stream",
     "text": [
      "Rock\n",
      "2070\n",
      "Comedy\n"
     ]
    },
    {
     "name": "stderr",
     "output_type": "stream",
     "text": [
      "/anaconda3/lib/python3.7/site-packages/sklearn/linear_model/logistic.py:433: FutureWarning: Default solver will be changed to 'lbfgs' in 0.22. Specify a solver to silence this warning.\n",
      "  FutureWarning)\n"
     ]
    },
    {
     "name": "stdout",
     "output_type": "stream",
     "text": [
      "Comedy\n",
      "9676\n",
      "Folk\n"
     ]
    },
    {
     "name": "stderr",
     "output_type": "stream",
     "text": [
      "/anaconda3/lib/python3.7/site-packages/sklearn/linear_model/logistic.py:433: FutureWarning: Default solver will be changed to 'lbfgs' in 0.22. Specify a solver to silence this warning.\n",
      "  FutureWarning)\n"
     ]
    },
    {
     "name": "stdout",
     "output_type": "stream",
     "text": [
      "Folk\n",
      "7801\n",
      "Jazz\n"
     ]
    },
    {
     "name": "stderr",
     "output_type": "stream",
     "text": [
      "/anaconda3/lib/python3.7/site-packages/sklearn/linear_model/logistic.py:433: FutureWarning: Default solver will be changed to 'lbfgs' in 0.22. Specify a solver to silence this warning.\n",
      "  FutureWarning)\n"
     ]
    },
    {
     "name": "stdout",
     "output_type": "stream",
     "text": [
      "Jazz\n",
      "8144\n",
      "Ska\n"
     ]
    },
    {
     "name": "stderr",
     "output_type": "stream",
     "text": [
      "/anaconda3/lib/python3.7/site-packages/sklearn/linear_model/logistic.py:433: FutureWarning: Default solver will be changed to 'lbfgs' in 0.22. Specify a solver to silence this warning.\n",
      "  FutureWarning)\n"
     ]
    }
   ],
   "source": [
    "import numpy as np\n",
    "from sklearn.linear_model import LogisticRegression \n",
    "from  sklearn.metrics import accuracy_score  \n",
    "from sklearn.utils import as_float_array \n",
    "import csv \n",
    "import math \n",
    "import collections \n",
    "keys = {'C': 0, 'C#': 1, 'D': 2, 'D#': 3, 'E': 4, 'F': 5,  \n",
    "      'F#': 6, 'G': 7, 'G#': 8, 'A': 9, 'A#': 10, 'B': 11} \n",
    "genreStrings = [] \n",
    "allFeaturesMatrix = [] \n",
    "allFeaturesDict = {} \n",
    "masterGenreDict = {} \n",
    "genreArrayDict = {} \n",
    "genreToCoefficients = {} \n",
    "genreDict = {} \n",
    "\n",
    "#songToGenre = {} \n",
    "\n",
    "def readMusicData(filename) :\n",
    "    # open a file\n",
    "    with open(filename) as f:\n",
    "        line = csv.reader(f)\n",
    "        # loop over each row in the file\n",
    "        rowNum = 0\n",
    "        for row in line:\n",
    "            if rowNum == 0 : \n",
    "                rowNum += 1\n",
    "                continue\n",
    "            # cast each value to a float\n",
    "            features = []\n",
    "            currFeature = 0\n",
    "            nameID = \"\"\n",
    "            for value in row :\n",
    "                if currFeature ==0: \n",
    "                    if value not in genreStrings: \n",
    "                        genreStrings.append(value) \n",
    "\n",
    "                if (currFeature >= 4 and currFeature <= 8) or currFeature == 10 \\\n",
    "                    or currFeature == 11 or currFeature == 13 or currFeature == 14 \\\n",
    "                        or currFeature == 16: \n",
    "                        value = float(value)\n",
    "                if currFeature == 15 : \n",
    "                    value = int(value[0])\n",
    "                if currFeature == 3 : \n",
    "                    nameID = str(value)\n",
    "                if currFeature == 9 : \n",
    "                    value = keys[value]\n",
    "                if currFeature == 12 : \n",
    "                    value = 1 if value == \"Major\" else 0\n",
    "                features.append(value)\n",
    "                currFeature += 1\n",
    "            allFeaturesDict[nameID] = features\n",
    "            allFeaturesMatrix.append(features)\n",
    "            rowNum += 1\n",
    "        # store the row into our dict\n",
    "\n",
    "def requests(name) :\n",
    "    songRequests = collections.defaultdict(None)\n",
    "    count = 0\n",
    "    with open(name,'r') as file :\n",
    "        for line in file: \n",
    "            if line == \"\\n\":\n",
    "                break\n",
    "            line = line.split(' = ')\n",
    "            name = line[0]\n",
    "            line[1] = line[1].replace('\\\"', \"\")\n",
    "            ids = line[1].split(\", \")\n",
    "            ids[0] = ids[0].replace('c(', \"\")\n",
    "            ids[4] = ids[4].replace(')\\n', \"\")\n",
    "            songRequests[name] = ids\n",
    "            count += 1\n",
    "            if count == 51 : break\n",
    "    return collections.OrderedDict(sorted(songRequests.items()))\n",
    "def makeGenreDict(filename, genre, genreArray) : \n",
    "    with open(filename) as f: \n",
    "        line = csv.reader(f)\n",
    "        rowNum = 0 \n",
    "        for row in line: \n",
    "            if rowNum == 0 :  \n",
    "                rowNum += 1 \n",
    "                continue \n",
    "              # cast each value to a float \n",
    "              # features = [] \n",
    "            currFeature = 0 \n",
    "            nameID = \"\"   \n",
    "            genreY = 0 \n",
    "            gname = \"\"  \n",
    "            for value in row : \n",
    "                if currFeature ==0: \n",
    "                    gname = value \n",
    "                    if value == genre: \n",
    "                        genreY = 1 \n",
    "                if currFeature == 3 :  \n",
    "                    nameID = str(value) \n",
    "                currFeature+=1 \n",
    "            genreDict[nameID] = str(gname) \n",
    "            genreArray.append(genreY) \n",
    "            rowNum += 1 \n",
    "  #extract numerical features only, with the first value as 'id' \n",
    "def sigmoid(x): \n",
    "    return 1 / (1 + math.exp(-x)) \n",
    "def numericalFeaturesOnly(allFeatures, toUse = []) :  \n",
    "    newFeatures = [] \n",
    "    if not toUse : \n",
    "        for feature in allFeatures : \n",
    "            newFeatures.append(feature[4:]) \n",
    "    else :  \n",
    "        for feature in allFeatures :  \n",
    "            feature = [feature[i] for i in range(len(feature)) if i in toUse] \n",
    "            newFeatures.append(feature) \n",
    "    return newFeatures \n",
    "\n",
    "def outputResults(toUse = [], average = True) : \n",
    "    necessaryDict = {} \n",
    "    totalSongs = 0 \n",
    "    numIncorrect = 0  \n",
    "  #     print(friends) \n",
    "    for person, songIds in friends.items() :  \n",
    "  #         print(person) \n",
    "        songs = [] \n",
    "        for song in songIds :  \n",
    "              #Using all songs \n",
    "            info = allFeaturesDict[song] \n",
    "            if not toUse :  \n",
    "                songs.append(info[4:]) \n",
    "                necessaryDict[song] = info[4:] \n",
    "            else :  \n",
    "                songs.append([info[i] for i in range(len(info)) if i in toUse]) \n",
    "                necessaryDict[song] = [info[i] for i in range(len(info)) if i in toUse] \n",
    "#             print(necessaryDict[song]) \n",
    "            totalSongs+=1 \n",
    "\n",
    "\n",
    "\n",
    "        print(\"Songs for my friend \"  + person) \n",
    "        print(\" Input songs: \" ) \n",
    "  #         print(songs) \n",
    "        for song in songIds :  \n",
    "            print(\"\\t\\t\" + allFeaturesDict[song][2] + \" by \" + allFeaturesDict[song][1])\n",
    "            scores = [] \n",
    "            scoresDict = {} \n",
    "  #         for song in songIds: \n",
    "#             j=0 \n",
    "            for i in range(1, len(genreStrings)): \n",
    "                score =  as_float_array(necessaryDict[song], copy=True) @ genreToCoefficients[genreStrings[i]][0] \n",
    "                sigmoidScore = sigmoid(score + genreToModel[genreStrings[i]].intercept_)                            \n",
    "                scores.append(sigmoidScore) \n",
    "                scoresDict[sigmoidScore] = genreStrings[i] \n",
    "                maxScore = max(scores)\n",
    "  #             print(scoresDict) \n",
    "                print(scoresDict[maxScore]) \n",
    "  #             print(scores[]) \n",
    "                print(\"Correct genre:\"  ) \n",
    "                print(genreDict[song]) \n",
    "                print(maxScore) \n",
    "  #             print(sigmoid(maxScore + genreToModel[scoresDict[maxScore]].intercept_)) \n",
    "\n",
    "\n",
    "            if(scoresDict[maxScore]!=genreDict[song]):  \n",
    "                if(genreDict[song]=='NULL'): \n",
    "                    numIncorrect-=2 \n",
    "                    totalSongs-=1 \n",
    "                numIncorrect+=1 \n",
    "    print(\"\\n\" ) \n",
    "    return (numIncorrect, totalSongs) \n",
    "\n",
    "print(\"Reading File Data!\\n\"  ) \n",
    "# Our friend song interests.  \n",
    "friends = requests('SongInput.txt') \n",
    "#populate matrix and dict with all features \n",
    "readMusicData('SpotifyFeatures.csv') \n",
    "print(genreStrings) \n",
    "print(len(genreStrings)) \n",
    "\n",
    "  #Feature indices, beginning at 4 and ending at 16, inclusive. BTW, 12 features total.  \n",
    "  #first example: all features \n",
    "  # desiredFeatures = [i for i in range(4,17)] \n",
    "  #second example: \\  Danceability, Speechiness, Acousticness, Instrumentalness, Liveness, Valence, Loudness, and Tempo\\   \n",
    "\n",
    "desiredFeatures = [4,5,8,10,11,13,14,16] \n",
    "desFeat2 = [4, 5, 7, 8, 10, 11, 13, 14, 16] \n",
    "# desFeat3 = [4, 5, 7, 8, 13] \n",
    "#just the numerical features sans artist/titles/genre/id \n",
    "numericalFeatures = numericalFeaturesOnly(allFeaturesMatrix, desFeat2) \n",
    "# model = LogisticRegression() \n",
    "# model.fit(allFeaturesMatrix, genreArray) \n",
    "# print(allFeaturesMatrix) \n",
    "genreToModel = {} \n",
    "# genreArrays \n",
    "for i in range(1, len(genreStrings)): \n",
    "    mdl = LogisticRegression() \n",
    "    genreArray = [] \n",
    "#     genreDict = {} \n",
    "    print(genreStrings[i]) \n",
    "    makeGenreDict(\"SpotifyFeatures.csv\" , genreStrings[i], genreArray) \n",
    "\n",
    "#     print(genreArray) \n",
    "    fittedmdl = mdl.fit(numericalFeatures, genreArray) \n",
    "    print(genreStrings[i]) \n",
    "    print(sum(genreArray)) \n",
    "#     print(fittedmdl.coef_) \n",
    "    floats = as_float_array(fittedmdl.coef_, copy=True) \n",
    "    genreToCoefficients[genreStrings[i]] = floats \n",
    "    genreArrayDict[genreStrings[i]] = genreArray \n",
    "    masterGenreDict[genreStrings[i]] = genreDict \n",
    "    genreToModel[genreStrings[i]] = fittedmdl \n",
    "\n",
    "\n",
    "  # predicted_classes = model.predict(X) \n",
    "  # accuracy = accuracy_score(genreArray.flatten(),predicted_classes) \n",
    "  # parameters = model.coef_  \n",
    "\n",
    "\n",
    "\n",
    "  # print(genreToCoefficients) \n",
    "numIncorrectClass = 0 \n",
    "totalClassified = 0 \n",
    "\n",
    "numInc, totalUpdate = outputResults(desFeat2) \n",
    "totalClassified += totalUpdate \n",
    "numIncorrectClass += numInc \n",
    "print(numIncorrectClass) \n",
    "print(totalClassified) \n",
    "\n",
    "# print(numIncorrect) \n",
    "print(float(numIncorrectClass)/float(totalClassified))"
   ]
  },
  {
   "cell_type": "code",
   "execution_count": null,
   "metadata": {},
   "outputs": [],
   "source": []
  }
 ],
 "metadata": {
  "kernelspec": {
   "display_name": "Python 3",
   "language": "python",
   "name": "python3"
  },
  "language_info": {
   "codemirror_mode": {
    "name": "ipython",
    "version": 3
   },
   "file_extension": ".py",
   "mimetype": "text/x-python",
   "name": "python",
   "nbconvert_exporter": "python",
   "pygments_lexer": "ipython3",
   "version": "3.7.1"
  }
 },
 "nbformat": 4,
 "nbformat_minor": 2
}

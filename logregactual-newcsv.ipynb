{
 "cells": [
  {
   "cell_type": "code",
   "execution_count": 1,
   "metadata": {},
   "outputs": [
    {
     "name": "stdout",
     "output_type": "stream",
     "text": [
      "Reading File Data!\n",
      "\n",
      "['NULL', 'Pop', 'Alternative', 'Blues', 'R&B', 'World', 'Dance', 'Soul', 'Hip-Hop', 'Reggae', 'Country', 'Electronic', 'Rock', 'Comedy', 'Folk', 'Jazz', 'Ska', 'Rap', 'Reggaeton', 'Indie', 'Classical', 'Soundtrack', 'Opera', 'Movie', 'A Capella']\n",
      "25\n"
     ]
    }
   ],
   "source": [
    "import numpy as np\n",
    "from sklearn.linear_model import LogisticRegression \n",
    "from  sklearn.metrics import accuracy_score  \n",
    "from sklearn.model_selection import train_test_split\n",
    "from sklearn.utils import as_float_array \n",
    "import csv \n",
    "import math \n",
    "import collections \n",
    "keys = {'C': 0, 'C#': 1, 'D': 2, 'D#': 3, 'E': 4, 'F': 5,  \n",
    "      'F#': 6, 'G': 7, 'G#': 8, 'A': 9, 'A#': 10, 'B': 11} \n",
    "genreStrings = [] \n",
    "allFeaturesMatrix = [] \n",
    "allFeaturesDict = {} \n",
    "masterGenreDict = {} \n",
    "songIdToNames = {}\n",
    "genreArrayDict = {} \n",
    "genreToCoefficients = {} \n",
    "genreDict = {} \n",
    "misclassified = {}\n",
    "misclassifiedPopSongs = []\n",
    "topThreePredictions = {}\n",
    "\n",
    "#songToGenre = {} \n",
    "\n",
    "def readMusicData(filename) :\n",
    "    # open a file\n",
    "    with open(filename) as f:\n",
    "        line = csv.reader(f)\n",
    "        # loop over each row in the file\n",
    "        rowNum = 0\n",
    "        for row in line:\n",
    "            if rowNum == 0 : \n",
    "                rowNum += 1\n",
    "                continue\n",
    "            # cast each value to a float\n",
    "            features = []\n",
    "            currFeature = 0\n",
    "            songName = \"\"\n",
    "            nameID = \"\"\n",
    "            for value in row :\n",
    "                if currFeature ==0: \n",
    "                    if value not in genreStrings: \n",
    "                        genreStrings.append(value) \n",
    "\n",
    "                if (currFeature >= 4 and currFeature <= 8) or currFeature == 10 \\\n",
    "                    or currFeature == 11 or currFeature == 13 or currFeature == 14 \\\n",
    "                        or currFeature == 16: \n",
    "                        value = float(value)\n",
    "                if currFeature == 15 : \n",
    "                    value = int(value[0])\n",
    "                if currFeature ==2:\n",
    "                    songName = value\n",
    "                if currFeature == 3 : \n",
    "                    nameID = str(value)\n",
    "                if currFeature == 9 : \n",
    "                    value = keys[value]\n",
    "                if currFeature == 12 : \n",
    "                    value = 1 if value == \"Major\" else 0\n",
    "                features.append(value)\n",
    "                currFeature += 1\n",
    "            songIdToNames[nameID] = songName\n",
    "            allFeaturesDict[nameID] = features\n",
    "            allFeaturesMatrix.append(features)\n",
    "            rowNum += 1\n",
    "        # store the row into our dict\n",
    "\n",
    "def requests(name) :\n",
    "    songRequests = collections.defaultdict(None)\n",
    "    count = 0\n",
    "    with open(name,'r') as file :\n",
    "        for line in file: \n",
    "            if line == \"\\n\":\n",
    "                break\n",
    "            line = line.split(' = ')\n",
    "            name = line[0]\n",
    "            line[1] = line[1].replace('\\\"', \"\")\n",
    "            ids = line[1].split(\", \")\n",
    "            ids[0] = ids[0].replace('c(', \"\")\n",
    "            ids[4] = ids[4].replace(')\\n', \"\")\n",
    "            songRequests[name] = ids\n",
    "            count += 1\n",
    "            if count == 51 : break\n",
    "    return collections.OrderedDict(sorted(songRequests.items()))\n",
    "def makeGenreDict(filename, genre, genreArray) : \n",
    "    with open(filename) as f: \n",
    "        line = csv.reader(f)\n",
    "        rowNum = 0 \n",
    "        for row in line: \n",
    "            if rowNum == 0 :  \n",
    "                rowNum += 1 \n",
    "                continue \n",
    "              # cast each value to a float \n",
    "              # features = [] \n",
    "            currFeature = 0 \n",
    "            nameID = \"\"   \n",
    "            genreY = 0 \n",
    "            gname = \"\"  \n",
    "            for value in row : \n",
    "                if currFeature ==0: \n",
    "                    gname = value \n",
    "                    if value == genre: \n",
    "                        genreY = 1 \n",
    "                if currFeature == 3 :  \n",
    "                    nameID = str(value) \n",
    "                currFeature+=1 \n",
    "            genreDict[nameID] = str(gname) \n",
    "#             print(\"keyyyy____\")\n",
    "#             print(nameID)\n",
    "            genreArray.append(genreY) \n",
    "            rowNum += 1 \n",
    "  #extract numerical features only, with the first value as 'id' \n",
    "def sigmoid(x): \n",
    "    return 1 / (1 + math.exp(-x)) \n",
    "def numericalFeaturesOnly(allFeatures, toUse = []) :  \n",
    "    songIds = []\n",
    "    newFeatures = [] \n",
    "    \n",
    "    if not toUse : \n",
    "        for feature in allFeatures : \n",
    "            songIds.append(feature[3]) \n",
    "            newFeatures.append(feature[4:]) \n",
    "    else :  \n",
    "        for feature in allFeatures :  \n",
    "            songIds.append(feature[3]) \n",
    "            feature = [feature[i] for i in range(len(feature)) if i in toUse] \n",
    "            newFeatures.append(feature)\n",
    "            \n",
    "    return newFeatures, songIds \n",
    "\n",
    "\n",
    "def outRes2(x, y, songIds, toUse = [], average = True) : \n",
    "    necessaryDict = {} \n",
    "    totalSongs = 0 \n",
    "    numIncorrect = 0  \n",
    "#     print(\"x0::::::\")\n",
    "#     print(x[0])\n",
    "    for i in range(len(x)) :  \n",
    "#             print(\"\\t\\t\" + allFeaturesDict[song][2] + \" by \" + allFeaturesDict[song][1])\n",
    "        scores = [] \n",
    "        scoresDict = {} \n",
    "#         for song in songIds: \n",
    "#             j=0 \n",
    "        for l in range(1, len(genreStrings)): \n",
    "            score =  as_float_array(x[i], copy=True) @ genreToCoefficients[genreStrings[l]][0] \n",
    "#             print(as_float_array(x[i], copy=True))\n",
    "#             print(genreToCoefficients[genreStrings[l]][0])\n",
    "            sigmoidScore = sigmoid(score + genreToModel[genreStrings[l]].intercept_)                            \n",
    "            scores.append(sigmoidScore) \n",
    "            scoresDict[sigmoidScore] = genreStrings[l] \n",
    "        maxScore = max(scores)\n",
    "#         songname = x[i][0]\n",
    "#         print(songIds[i])\n",
    "#         print(genreDict[songIds[i]])\n",
    "        topThreePredictions[songIds[i]] = []\n",
    "        for k in range(0, 3):\n",
    "            max1 = float(\"-inf\")\n",
    "            for j in range(len(scores)):\n",
    "                if scores[j] > max1:\n",
    "                    max1 = scores[j]\n",
    "            scores.remove(max1)\n",
    "            topThreePredictions[songIds[i]].append((max1, scoresDict[max1]))\n",
    "        \n",
    "#         if(scoresDict[maxScore]!=genreDict[songname]): \n",
    "#             if(genreDict[songname]=='NULL'): \n",
    "#                 numIncorrect-=2 \n",
    "#                 totalSongs-=1 \n",
    "#             numIncorrect+=1 \n",
    "#             if scoresDict[maxScore] not in misclassified:\n",
    "#                 misclassified[scoresDict[maxScore]] = collections.defaultdict(int)\n",
    "# #                 if genreDict[song] not in  misclassified[scoresDict[maxScore]]:\n",
    "# #                     misclassified[scoresDict[maxScore]][genreDict[song]] = collections.defaultdict(int)\n",
    "#             misclassified[scoresDict[maxScore]][y[i]]+=1\n",
    "\n",
    "\n",
    "#     print(\"\\n\" ) \n",
    "    return (numIncorrect, totalSongs) \n",
    "print(\"Reading File Data!\\n\"  ) \n",
    "# Our friend song interests.  \n",
    "friends = requests('SongInput.txt') \n",
    "#populate matrix and dict with all features \n",
    "readMusicData('SpotifyFeatures.csv') \n",
    "print(genreStrings) \n",
    "print(len(genreStrings)) \n",
    "\n",
    "  #Feature indices, beginning at 4 and ending at 16, inclusive. BTW, 12 features total.  \n",
    "  #first example: all features \n",
    "  # desiredFeatures = [i for i in range(4,17)] \n",
    "  #second example: \\  Danceability, Speechiness, Acousticness, Instrumentalness, Liveness, Valence, Loudness, and Tempo\\   \n",
    "\n"
   ]
  },
  {
   "cell_type": "code",
   "execution_count": 2,
   "metadata": {},
   "outputs": [
    {
     "name": "stdout",
     "output_type": "stream",
     "text": [
      "[     2      4      6 ... 153749 153750 153753]\n",
      "153757\n",
      "SONG ID\n",
      "4j9HBb9EShsJJ0EmQy8mgz\n",
      "Pop\n"
     ]
    },
    {
     "name": "stderr",
     "output_type": "stream",
     "text": [
      "IOPub data rate exceeded.\n",
      "The notebook server will temporarily stop sending output\n",
      "to the client in order to avoid crashing it.\n",
      "To change this limit, set the config variable\n",
      "`--NotebookApp.iopub_data_rate_limit`.\n",
      "\n",
      "Current values:\n",
      "NotebookApp.iopub_data_rate_limit=1000000.0 (bytes/sec)\n",
      "NotebookApp.rate_limit_window=3.0 (secs)\n",
      "\n"
     ]
    },
    {
     "name": "stdout",
     "output_type": "stream",
     "text": [
      "[0.409, 0.875, 0.483, 0.000191, 0.196, -9.535, 0.0848, 120.004, 0.703]\n"
     ]
    },
    {
     "name": "stderr",
     "output_type": "stream",
     "text": [
      "/anaconda3/lib/python3.7/site-packages/sklearn/linear_model/logistic.py:433: FutureWarning: Default solver will be changed to 'lbfgs' in 0.22. Specify a solver to silence this warning.\n",
      "  FutureWarning)\n"
     ]
    },
    {
     "name": "stdout",
     "output_type": "stream",
     "text": [
      "Pop\n",
      "6022\n",
      "Alternative\n"
     ]
    },
    {
     "name": "stderr",
     "output_type": "stream",
     "text": [
      "IOPub data rate exceeded.\n",
      "The notebook server will temporarily stop sending output\n",
      "to the client in order to avoid crashing it.\n",
      "To change this limit, set the config variable\n",
      "`--NotebookApp.iopub_data_rate_limit`.\n",
      "\n",
      "Current values:\n",
      "NotebookApp.iopub_data_rate_limit=1000000.0 (bytes/sec)\n",
      "NotebookApp.rate_limit_window=3.0 (secs)\n",
      "\n"
     ]
    },
    {
     "name": "stdout",
     "output_type": "stream",
     "text": [
      "[0.409, 0.875, 0.483, 0.000191, 0.196, -9.535, 0.0848, 120.004, 0.703]\n"
     ]
    },
    {
     "name": "stderr",
     "output_type": "stream",
     "text": [
      "/anaconda3/lib/python3.7/site-packages/sklearn/linear_model/logistic.py:433: FutureWarning: Default solver will be changed to 'lbfgs' in 0.22. Specify a solver to silence this warning.\n",
      "  FutureWarning)\n"
     ]
    },
    {
     "name": "stdout",
     "output_type": "stream",
     "text": [
      "Alternative\n",
      "5300\n",
      "Blues\n"
     ]
    },
    {
     "name": "stderr",
     "output_type": "stream",
     "text": [
      "IOPub data rate exceeded.\n",
      "The notebook server will temporarily stop sending output\n",
      "to the client in order to avoid crashing it.\n",
      "To change this limit, set the config variable\n",
      "`--NotebookApp.iopub_data_rate_limit`.\n",
      "\n",
      "Current values:\n",
      "NotebookApp.iopub_data_rate_limit=1000000.0 (bytes/sec)\n",
      "NotebookApp.rate_limit_window=3.0 (secs)\n",
      "\n"
     ]
    },
    {
     "name": "stdout",
     "output_type": "stream",
     "text": [
      "[0.409, 0.875, 0.483, 0.000191, 0.196, -9.535, 0.0848, 120.004, 0.703]\n"
     ]
    },
    {
     "name": "stderr",
     "output_type": "stream",
     "text": [
      "/anaconda3/lib/python3.7/site-packages/sklearn/linear_model/logistic.py:433: FutureWarning: Default solver will be changed to 'lbfgs' in 0.22. Specify a solver to silence this warning.\n",
      "  FutureWarning)\n"
     ]
    },
    {
     "name": "stdout",
     "output_type": "stream",
     "text": [
      "Blues\n",
      "3295\n",
      "R&B\n"
     ]
    },
    {
     "name": "stderr",
     "output_type": "stream",
     "text": [
      "IOPub data rate exceeded.\n",
      "The notebook server will temporarily stop sending output\n",
      "to the client in order to avoid crashing it.\n",
      "To change this limit, set the config variable\n",
      "`--NotebookApp.iopub_data_rate_limit`.\n",
      "\n",
      "Current values:\n",
      "NotebookApp.iopub_data_rate_limit=1000000.0 (bytes/sec)\n",
      "NotebookApp.rate_limit_window=3.0 (secs)\n",
      "\n"
     ]
    },
    {
     "name": "stdout",
     "output_type": "stream",
     "text": [
      "[0.409, 0.875, 0.483, 0.000191, 0.196, -9.535, 0.0848, 120.004, 0.703]\n"
     ]
    },
    {
     "name": "stderr",
     "output_type": "stream",
     "text": [
      "/anaconda3/lib/python3.7/site-packages/sklearn/linear_model/logistic.py:433: FutureWarning: Default solver will be changed to 'lbfgs' in 0.22. Specify a solver to silence this warning.\n",
      "  FutureWarning)\n"
     ]
    },
    {
     "name": "stdout",
     "output_type": "stream",
     "text": [
      "R&B\n",
      "4869\n",
      "World\n"
     ]
    },
    {
     "name": "stderr",
     "output_type": "stream",
     "text": [
      "IOPub data rate exceeded.\n",
      "The notebook server will temporarily stop sending output\n",
      "to the client in order to avoid crashing it.\n",
      "To change this limit, set the config variable\n",
      "`--NotebookApp.iopub_data_rate_limit`.\n",
      "\n",
      "Current values:\n",
      "NotebookApp.iopub_data_rate_limit=1000000.0 (bytes/sec)\n",
      "NotebookApp.rate_limit_window=3.0 (secs)\n",
      "\n"
     ]
    },
    {
     "name": "stdout",
     "output_type": "stream",
     "text": [
      "[0.409, 0.875, 0.483, 0.000191, 0.196, -9.535, 0.0848, 120.004, 0.703]\n"
     ]
    },
    {
     "name": "stderr",
     "output_type": "stream",
     "text": [
      "/anaconda3/lib/python3.7/site-packages/sklearn/linear_model/logistic.py:433: FutureWarning: Default solver will be changed to 'lbfgs' in 0.22. Specify a solver to silence this warning.\n",
      "  FutureWarning)\n"
     ]
    },
    {
     "name": "stdout",
     "output_type": "stream",
     "text": [
      "World\n",
      "8038\n",
      "Dance\n"
     ]
    },
    {
     "name": "stderr",
     "output_type": "stream",
     "text": [
      "IOPub data rate exceeded.\n",
      "The notebook server will temporarily stop sending output\n",
      "to the client in order to avoid crashing it.\n",
      "To change this limit, set the config variable\n",
      "`--NotebookApp.iopub_data_rate_limit`.\n",
      "\n",
      "Current values:\n",
      "NotebookApp.iopub_data_rate_limit=1000000.0 (bytes/sec)\n",
      "NotebookApp.rate_limit_window=3.0 (secs)\n",
      "\n"
     ]
    },
    {
     "name": "stdout",
     "output_type": "stream",
     "text": [
      "[0.409, 0.875, 0.483, 0.000191, 0.196, -9.535, 0.0848, 120.004, 0.703]\n"
     ]
    },
    {
     "name": "stderr",
     "output_type": "stream",
     "text": [
      "/anaconda3/lib/python3.7/site-packages/sklearn/linear_model/logistic.py:433: FutureWarning: Default solver will be changed to 'lbfgs' in 0.22. Specify a solver to silence this warning.\n",
      "  FutureWarning)\n"
     ]
    },
    {
     "name": "stdout",
     "output_type": "stream",
     "text": [
      "Dance\n",
      "8298\n",
      "Soul\n"
     ]
    },
    {
     "name": "stderr",
     "output_type": "stream",
     "text": [
      "IOPub data rate exceeded.\n",
      "The notebook server will temporarily stop sending output\n",
      "to the client in order to avoid crashing it.\n",
      "To change this limit, set the config variable\n",
      "`--NotebookApp.iopub_data_rate_limit`.\n",
      "\n",
      "Current values:\n",
      "NotebookApp.iopub_data_rate_limit=1000000.0 (bytes/sec)\n",
      "NotebookApp.rate_limit_window=3.0 (secs)\n",
      "\n"
     ]
    },
    {
     "name": "stdout",
     "output_type": "stream",
     "text": [
      "[0.409, 0.875, 0.483, 0.000191, 0.196, -9.535, 0.0848, 120.004, 0.703]\n"
     ]
    },
    {
     "name": "stderr",
     "output_type": "stream",
     "text": [
      "/anaconda3/lib/python3.7/site-packages/sklearn/linear_model/logistic.py:433: FutureWarning: Default solver will be changed to 'lbfgs' in 0.22. Specify a solver to silence this warning.\n",
      "  FutureWarning)\n"
     ]
    },
    {
     "name": "stdout",
     "output_type": "stream",
     "text": [
      "Soul\n",
      "5058\n",
      "Hip-Hop\n"
     ]
    },
    {
     "name": "stderr",
     "output_type": "stream",
     "text": [
      "IOPub data rate exceeded.\n",
      "The notebook server will temporarily stop sending output\n",
      "to the client in order to avoid crashing it.\n",
      "To change this limit, set the config variable\n",
      "`--NotebookApp.iopub_data_rate_limit`.\n",
      "\n",
      "Current values:\n",
      "NotebookApp.iopub_data_rate_limit=1000000.0 (bytes/sec)\n",
      "NotebookApp.rate_limit_window=3.0 (secs)\n",
      "\n"
     ]
    },
    {
     "name": "stdout",
     "output_type": "stream",
     "text": [
      "[0.409, 0.875, 0.483, 0.000191, 0.196, -9.535, 0.0848, 120.004, 0.703]\n"
     ]
    },
    {
     "name": "stderr",
     "output_type": "stream",
     "text": [
      "/anaconda3/lib/python3.7/site-packages/sklearn/linear_model/logistic.py:433: FutureWarning: Default solver will be changed to 'lbfgs' in 0.22. Specify a solver to silence this warning.\n",
      "  FutureWarning)\n"
     ]
    },
    {
     "name": "stdout",
     "output_type": "stream",
     "text": [
      "Hip-Hop\n",
      "2285\n",
      "Reggae\n"
     ]
    },
    {
     "name": "stderr",
     "output_type": "stream",
     "text": [
      "IOPub data rate exceeded.\n",
      "The notebook server will temporarily stop sending output\n",
      "to the client in order to avoid crashing it.\n",
      "To change this limit, set the config variable\n",
      "`--NotebookApp.iopub_data_rate_limit`.\n",
      "\n",
      "Current values:\n",
      "NotebookApp.iopub_data_rate_limit=1000000.0 (bytes/sec)\n",
      "NotebookApp.rate_limit_window=3.0 (secs)\n",
      "\n"
     ]
    },
    {
     "name": "stdout",
     "output_type": "stream",
     "text": [
      "[0.409, 0.875, 0.483, 0.000191, 0.196, -9.535, 0.0848, 120.004, 0.703]\n"
     ]
    },
    {
     "name": "stderr",
     "output_type": "stream",
     "text": [
      "/anaconda3/lib/python3.7/site-packages/sklearn/linear_model/logistic.py:433: FutureWarning: Default solver will be changed to 'lbfgs' in 0.22. Specify a solver to silence this warning.\n",
      "  FutureWarning)\n"
     ]
    },
    {
     "name": "stdout",
     "output_type": "stream",
     "text": [
      "Reggae\n",
      "8711\n",
      "Country\n"
     ]
    },
    {
     "name": "stderr",
     "output_type": "stream",
     "text": [
      "IOPub data rate exceeded.\n",
      "The notebook server will temporarily stop sending output\n",
      "to the client in order to avoid crashing it.\n",
      "To change this limit, set the config variable\n",
      "`--NotebookApp.iopub_data_rate_limit`.\n",
      "\n",
      "Current values:\n",
      "NotebookApp.iopub_data_rate_limit=1000000.0 (bytes/sec)\n",
      "NotebookApp.rate_limit_window=3.0 (secs)\n",
      "\n"
     ]
    },
    {
     "name": "stdout",
     "output_type": "stream",
     "text": [
      "[0.409, 0.875, 0.483, 0.000191, 0.196, -9.535, 0.0848, 120.004, 0.703]\n"
     ]
    },
    {
     "name": "stderr",
     "output_type": "stream",
     "text": [
      "/anaconda3/lib/python3.7/site-packages/sklearn/linear_model/logistic.py:433: FutureWarning: Default solver will be changed to 'lbfgs' in 0.22. Specify a solver to silence this warning.\n",
      "  FutureWarning)\n"
     ]
    },
    {
     "name": "stdout",
     "output_type": "stream",
     "text": [
      "Country\n",
      "7325\n",
      "Electronic\n"
     ]
    },
    {
     "name": "stderr",
     "output_type": "stream",
     "text": [
      "IOPub data rate exceeded.\n",
      "The notebook server will temporarily stop sending output\n",
      "to the client in order to avoid crashing it.\n",
      "To change this limit, set the config variable\n",
      "`--NotebookApp.iopub_data_rate_limit`.\n",
      "\n",
      "Current values:\n",
      "NotebookApp.iopub_data_rate_limit=1000000.0 (bytes/sec)\n",
      "NotebookApp.rate_limit_window=3.0 (secs)\n",
      "\n"
     ]
    },
    {
     "name": "stdout",
     "output_type": "stream",
     "text": [
      "[0.409, 0.875, 0.483, 0.000191, 0.196, -9.535, 0.0848, 120.004, 0.703]\n"
     ]
    },
    {
     "name": "stderr",
     "output_type": "stream",
     "text": [
      "/anaconda3/lib/python3.7/site-packages/sklearn/linear_model/logistic.py:433: FutureWarning: Default solver will be changed to 'lbfgs' in 0.22. Specify a solver to silence this warning.\n",
      "  FutureWarning)\n"
     ]
    },
    {
     "name": "stdout",
     "output_type": "stream",
     "text": [
      "Electronic\n",
      "9149\n",
      "Rock\n"
     ]
    },
    {
     "name": "stderr",
     "output_type": "stream",
     "text": [
      "IOPub data rate exceeded.\n",
      "The notebook server will temporarily stop sending output\n",
      "to the client in order to avoid crashing it.\n",
      "To change this limit, set the config variable\n",
      "`--NotebookApp.iopub_data_rate_limit`.\n",
      "\n",
      "Current values:\n",
      "NotebookApp.iopub_data_rate_limit=1000000.0 (bytes/sec)\n",
      "NotebookApp.rate_limit_window=3.0 (secs)\n",
      "\n"
     ]
    },
    {
     "name": "stdout",
     "output_type": "stream",
     "text": [
      "[0.409, 0.875, 0.483, 0.000191, 0.196, -9.535, 0.0848, 120.004, 0.703]\n"
     ]
    },
    {
     "name": "stderr",
     "output_type": "stream",
     "text": [
      "/anaconda3/lib/python3.7/site-packages/sklearn/linear_model/logistic.py:433: FutureWarning: Default solver will be changed to 'lbfgs' in 0.22. Specify a solver to silence this warning.\n",
      "  FutureWarning)\n"
     ]
    },
    {
     "name": "stdout",
     "output_type": "stream",
     "text": [
      "Rock\n",
      "2070\n",
      "Comedy\n"
     ]
    },
    {
     "name": "stderr",
     "output_type": "stream",
     "text": [
      "IOPub data rate exceeded.\n",
      "The notebook server will temporarily stop sending output\n",
      "to the client in order to avoid crashing it.\n",
      "To change this limit, set the config variable\n",
      "`--NotebookApp.iopub_data_rate_limit`.\n",
      "\n",
      "Current values:\n",
      "NotebookApp.iopub_data_rate_limit=1000000.0 (bytes/sec)\n",
      "NotebookApp.rate_limit_window=3.0 (secs)\n",
      "\n"
     ]
    },
    {
     "name": "stdout",
     "output_type": "stream",
     "text": [
      "[0.409, 0.875, 0.483, 0.000191, 0.196, -9.535, 0.0848, 120.004, 0.703]\n"
     ]
    },
    {
     "name": "stderr",
     "output_type": "stream",
     "text": [
      "/anaconda3/lib/python3.7/site-packages/sklearn/linear_model/logistic.py:433: FutureWarning: Default solver will be changed to 'lbfgs' in 0.22. Specify a solver to silence this warning.\n",
      "  FutureWarning)\n"
     ]
    },
    {
     "name": "stdout",
     "output_type": "stream",
     "text": [
      "Comedy\n",
      "9676\n",
      "Folk\n"
     ]
    },
    {
     "name": "stderr",
     "output_type": "stream",
     "text": [
      "IOPub data rate exceeded.\n",
      "The notebook server will temporarily stop sending output\n",
      "to the client in order to avoid crashing it.\n",
      "To change this limit, set the config variable\n",
      "`--NotebookApp.iopub_data_rate_limit`.\n",
      "\n",
      "Current values:\n",
      "NotebookApp.iopub_data_rate_limit=1000000.0 (bytes/sec)\n",
      "NotebookApp.rate_limit_window=3.0 (secs)\n",
      "\n"
     ]
    },
    {
     "name": "stdout",
     "output_type": "stream",
     "text": [
      "[0.409, 0.875, 0.483, 0.000191, 0.196, -9.535, 0.0848, 120.004, 0.703]\n"
     ]
    },
    {
     "name": "stderr",
     "output_type": "stream",
     "text": [
      "/anaconda3/lib/python3.7/site-packages/sklearn/linear_model/logistic.py:433: FutureWarning: Default solver will be changed to 'lbfgs' in 0.22. Specify a solver to silence this warning.\n",
      "  FutureWarning)\n"
     ]
    },
    {
     "name": "stdout",
     "output_type": "stream",
     "text": [
      "Folk\n",
      "7801\n",
      "Jazz\n"
     ]
    },
    {
     "name": "stderr",
     "output_type": "stream",
     "text": [
      "IOPub data rate exceeded.\n",
      "The notebook server will temporarily stop sending output\n",
      "to the client in order to avoid crashing it.\n",
      "To change this limit, set the config variable\n",
      "`--NotebookApp.iopub_data_rate_limit`.\n",
      "\n",
      "Current values:\n",
      "NotebookApp.iopub_data_rate_limit=1000000.0 (bytes/sec)\n",
      "NotebookApp.rate_limit_window=3.0 (secs)\n",
      "\n"
     ]
    },
    {
     "name": "stdout",
     "output_type": "stream",
     "text": [
      "[0.409, 0.875, 0.483, 0.000191, 0.196, -9.535, 0.0848, 120.004, 0.703]\n"
     ]
    },
    {
     "name": "stderr",
     "output_type": "stream",
     "text": [
      "/anaconda3/lib/python3.7/site-packages/sklearn/linear_model/logistic.py:433: FutureWarning: Default solver will be changed to 'lbfgs' in 0.22. Specify a solver to silence this warning.\n",
      "  FutureWarning)\n"
     ]
    },
    {
     "name": "stdout",
     "output_type": "stream",
     "text": [
      "Jazz\n",
      "8144\n",
      "Ska\n"
     ]
    },
    {
     "name": "stderr",
     "output_type": "stream",
     "text": [
      "IOPub data rate exceeded.\n",
      "The notebook server will temporarily stop sending output\n",
      "to the client in order to avoid crashing it.\n",
      "To change this limit, set the config variable\n",
      "`--NotebookApp.iopub_data_rate_limit`.\n",
      "\n",
      "Current values:\n",
      "NotebookApp.iopub_data_rate_limit=1000000.0 (bytes/sec)\n",
      "NotebookApp.rate_limit_window=3.0 (secs)\n",
      "\n"
     ]
    },
    {
     "name": "stdout",
     "output_type": "stream",
     "text": [
      "[0.409, 0.875, 0.483, 0.000191, 0.196, -9.535, 0.0848, 120.004, 0.703]\n"
     ]
    },
    {
     "name": "stderr",
     "output_type": "stream",
     "text": [
      "/anaconda3/lib/python3.7/site-packages/sklearn/linear_model/logistic.py:433: FutureWarning: Default solver will be changed to 'lbfgs' in 0.22. Specify a solver to silence this warning.\n",
      "  FutureWarning)\n"
     ]
    },
    {
     "name": "stdout",
     "output_type": "stream",
     "text": [
      "Ska\n",
      "8022\n",
      "Rap\n"
     ]
    },
    {
     "name": "stderr",
     "output_type": "stream",
     "text": [
      "IOPub data rate exceeded.\n",
      "The notebook server will temporarily stop sending output\n",
      "to the client in order to avoid crashing it.\n",
      "To change this limit, set the config variable\n",
      "`--NotebookApp.iopub_data_rate_limit`.\n",
      "\n",
      "Current values:\n",
      "NotebookApp.iopub_data_rate_limit=1000000.0 (bytes/sec)\n",
      "NotebookApp.rate_limit_window=3.0 (secs)\n",
      "\n"
     ]
    },
    {
     "name": "stdout",
     "output_type": "stream",
     "text": [
      "[0.409, 0.875, 0.483, 0.000191, 0.196, -9.535, 0.0848, 120.004, 0.703]\n"
     ]
    },
    {
     "name": "stderr",
     "output_type": "stream",
     "text": [
      "/anaconda3/lib/python3.7/site-packages/sklearn/linear_model/logistic.py:433: FutureWarning: Default solver will be changed to 'lbfgs' in 0.22. Specify a solver to silence this warning.\n",
      "  FutureWarning)\n"
     ]
    },
    {
     "name": "stdout",
     "output_type": "stream",
     "text": [
      "Rap\n",
      "4519\n",
      "Reggaeton\n"
     ]
    },
    {
     "name": "stderr",
     "output_type": "stream",
     "text": [
      "IOPub data rate exceeded.\n",
      "The notebook server will temporarily stop sending output\n",
      "to the client in order to avoid crashing it.\n",
      "To change this limit, set the config variable\n",
      "`--NotebookApp.iopub_data_rate_limit`.\n",
      "\n",
      "Current values:\n",
      "NotebookApp.iopub_data_rate_limit=1000000.0 (bytes/sec)\n",
      "NotebookApp.rate_limit_window=3.0 (secs)\n",
      "\n"
     ]
    },
    {
     "name": "stdout",
     "output_type": "stream",
     "text": [
      "[0.409, 0.875, 0.483, 0.000191, 0.196, -9.535, 0.0848, 120.004, 0.703]\n"
     ]
    },
    {
     "name": "stderr",
     "output_type": "stream",
     "text": [
      "/anaconda3/lib/python3.7/site-packages/sklearn/linear_model/logistic.py:433: FutureWarning: Default solver will be changed to 'lbfgs' in 0.22. Specify a solver to silence this warning.\n",
      "  FutureWarning)\n"
     ]
    },
    {
     "name": "stdout",
     "output_type": "stream",
     "text": [
      "Reggaeton\n",
      "8537\n",
      "Indie\n"
     ]
    },
    {
     "name": "stderr",
     "output_type": "stream",
     "text": [
      "IOPub data rate exceeded.\n",
      "The notebook server will temporarily stop sending output\n",
      "to the client in order to avoid crashing it.\n",
      "To change this limit, set the config variable\n",
      "`--NotebookApp.iopub_data_rate_limit`.\n",
      "\n",
      "Current values:\n",
      "NotebookApp.iopub_data_rate_limit=1000000.0 (bytes/sec)\n",
      "NotebookApp.rate_limit_window=3.0 (secs)\n",
      "\n"
     ]
    },
    {
     "name": "stdout",
     "output_type": "stream",
     "text": [
      "[0.409, 0.875, 0.483, 0.000191, 0.196, -9.535, 0.0848, 120.004, 0.703]\n"
     ]
    },
    {
     "name": "stderr",
     "output_type": "stream",
     "text": [
      "/anaconda3/lib/python3.7/site-packages/sklearn/linear_model/logistic.py:433: FutureWarning: Default solver will be changed to 'lbfgs' in 0.22. Specify a solver to silence this warning.\n",
      "  FutureWarning)\n"
     ]
    },
    {
     "name": "stdout",
     "output_type": "stream",
     "text": [
      "Indie\n",
      "2781\n",
      "Classical\n"
     ]
    },
    {
     "name": "stderr",
     "output_type": "stream",
     "text": [
      "IOPub data rate exceeded.\n",
      "The notebook server will temporarily stop sending output\n",
      "to the client in order to avoid crashing it.\n",
      "To change this limit, set the config variable\n",
      "`--NotebookApp.iopub_data_rate_limit`.\n",
      "\n",
      "Current values:\n",
      "NotebookApp.iopub_data_rate_limit=1000000.0 (bytes/sec)\n",
      "NotebookApp.rate_limit_window=3.0 (secs)\n",
      "\n"
     ]
    },
    {
     "name": "stdout",
     "output_type": "stream",
     "text": [
      "[0.409, 0.875, 0.483, 0.000191, 0.196, -9.535, 0.0848, 120.004, 0.703]\n"
     ]
    },
    {
     "name": "stderr",
     "output_type": "stream",
     "text": [
      "/anaconda3/lib/python3.7/site-packages/sklearn/linear_model/logistic.py:433: FutureWarning: Default solver will be changed to 'lbfgs' in 0.22. Specify a solver to silence this warning.\n",
      "  FutureWarning)\n"
     ]
    },
    {
     "name": "stdout",
     "output_type": "stream",
     "text": [
      "Classical\n",
      "9250\n",
      "Soundtrack\n"
     ]
    },
    {
     "name": "stderr",
     "output_type": "stream",
     "text": [
      "IOPub data rate exceeded.\n",
      "The notebook server will temporarily stop sending output\n",
      "to the client in order to avoid crashing it.\n",
      "To change this limit, set the config variable\n",
      "`--NotebookApp.iopub_data_rate_limit`.\n",
      "\n",
      "Current values:\n",
      "NotebookApp.iopub_data_rate_limit=1000000.0 (bytes/sec)\n",
      "NotebookApp.rate_limit_window=3.0 (secs)\n",
      "\n"
     ]
    },
    {
     "name": "stdout",
     "output_type": "stream",
     "text": [
      "[0.409, 0.875, 0.483, 0.000191, 0.196, -9.535, 0.0848, 120.004, 0.703]\n"
     ]
    },
    {
     "name": "stderr",
     "output_type": "stream",
     "text": [
      "/anaconda3/lib/python3.7/site-packages/sklearn/linear_model/logistic.py:433: FutureWarning: Default solver will be changed to 'lbfgs' in 0.22. Specify a solver to silence this warning.\n",
      "  FutureWarning)\n"
     ]
    },
    {
     "name": "stdout",
     "output_type": "stream",
     "text": [
      "Soundtrack\n",
      "8967\n",
      "Opera\n"
     ]
    },
    {
     "name": "stderr",
     "output_type": "stream",
     "text": [
      "IOPub data rate exceeded.\n",
      "The notebook server will temporarily stop sending output\n",
      "to the client in order to avoid crashing it.\n",
      "To change this limit, set the config variable\n",
      "`--NotebookApp.iopub_data_rate_limit`.\n",
      "\n",
      "Current values:\n",
      "NotebookApp.iopub_data_rate_limit=1000000.0 (bytes/sec)\n",
      "NotebookApp.rate_limit_window=3.0 (secs)\n",
      "\n"
     ]
    },
    {
     "name": "stdout",
     "output_type": "stream",
     "text": [
      "[0.409, 0.875, 0.483, 0.000191, 0.196, -9.535, 0.0848, 120.004, 0.703]\n"
     ]
    },
    {
     "name": "stderr",
     "output_type": "stream",
     "text": [
      "/anaconda3/lib/python3.7/site-packages/sklearn/linear_model/logistic.py:433: FutureWarning: Default solver will be changed to 'lbfgs' in 0.22. Specify a solver to silence this warning.\n",
      "  FutureWarning)\n"
     ]
    },
    {
     "name": "stdout",
     "output_type": "stream",
     "text": [
      "Opera\n",
      "7891\n",
      "Movie\n"
     ]
    },
    {
     "name": "stderr",
     "output_type": "stream",
     "text": [
      "IOPub data rate exceeded.\n",
      "The notebook server will temporarily stop sending output\n",
      "to the client in order to avoid crashing it.\n",
      "To change this limit, set the config variable\n",
      "`--NotebookApp.iopub_data_rate_limit`.\n",
      "\n",
      "Current values:\n",
      "NotebookApp.iopub_data_rate_limit=1000000.0 (bytes/sec)\n",
      "NotebookApp.rate_limit_window=3.0 (secs)\n",
      "\n"
     ]
    },
    {
     "name": "stdout",
     "output_type": "stream",
     "text": [
      "[0.409, 0.875, 0.483, 0.000191, 0.196, -9.535, 0.0848, 120.004, 0.703]\n"
     ]
    },
    {
     "name": "stderr",
     "output_type": "stream",
     "text": [
      "/anaconda3/lib/python3.7/site-packages/sklearn/linear_model/logistic.py:433: FutureWarning: Default solver will be changed to 'lbfgs' in 0.22. Specify a solver to silence this warning.\n",
      "  FutureWarning)\n"
     ]
    },
    {
     "name": "stdout",
     "output_type": "stream",
     "text": [
      "Movie\n",
      "7555\n",
      "A Capella\n"
     ]
    },
    {
     "name": "stderr",
     "output_type": "stream",
     "text": [
      "IOPub data rate exceeded.\n",
      "The notebook server will temporarily stop sending output\n",
      "to the client in order to avoid crashing it.\n",
      "To change this limit, set the config variable\n",
      "`--NotebookApp.iopub_data_rate_limit`.\n",
      "\n",
      "Current values:\n",
      "NotebookApp.iopub_data_rate_limit=1000000.0 (bytes/sec)\n",
      "NotebookApp.rate_limit_window=3.0 (secs)\n",
      "\n"
     ]
    },
    {
     "name": "stdout",
     "output_type": "stream",
     "text": [
      "[0.409, 0.875, 0.483, 0.000191, 0.196, -9.535, 0.0848, 120.004, 0.703]\n"
     ]
    },
    {
     "name": "stderr",
     "output_type": "stream",
     "text": [
      "/anaconda3/lib/python3.7/site-packages/sklearn/linear_model/logistic.py:433: FutureWarning: Default solver will be changed to 'lbfgs' in 0.22. Specify a solver to silence this warning.\n",
      "  FutureWarning)\n"
     ]
    },
    {
     "name": "stdout",
     "output_type": "stream",
     "text": [
      "A Capella\n",
      "119\n",
      "[0.502, 0.864, 0.39, 4.82e-05, 0.127, -7.438, 0.0392, 103.948, 0.811]\n",
      "76879\n",
      "[     0      1      3 ... 153754 153755 153756]\n",
      "153757\n",
      "SONG ID\n",
      "4j9HBb9EShsJJ0EmQy8mgz\n",
      "Pop\n"
     ]
    },
    {
     "name": "stderr",
     "output_type": "stream",
     "text": [
      "IOPub data rate exceeded.\n",
      "The notebook server will temporarily stop sending output\n",
      "to the client in order to avoid crashing it.\n",
      "To change this limit, set the config variable\n",
      "`--NotebookApp.iopub_data_rate_limit`.\n",
      "\n",
      "Current values:\n",
      "NotebookApp.iopub_data_rate_limit=1000000.0 (bytes/sec)\n",
      "NotebookApp.rate_limit_window=3.0 (secs)\n",
      "\n"
     ]
    },
    {
     "name": "stdout",
     "output_type": "stream",
     "text": [
      "[0.0407, 0.72, 0.643, 9.33e-06, 0.156, -4.545, 0.0435, 116.956, 0.714]\n"
     ]
    },
    {
     "name": "stderr",
     "output_type": "stream",
     "text": [
      "/anaconda3/lib/python3.7/site-packages/sklearn/linear_model/logistic.py:433: FutureWarning: Default solver will be changed to 'lbfgs' in 0.22. Specify a solver to silence this warning.\n",
      "  FutureWarning)\n"
     ]
    },
    {
     "name": "stdout",
     "output_type": "stream",
     "text": [
      "Pop\n",
      "6022\n",
      "Alternative\n"
     ]
    },
    {
     "name": "stderr",
     "output_type": "stream",
     "text": [
      "IOPub data rate exceeded.\n",
      "The notebook server will temporarily stop sending output\n",
      "to the client in order to avoid crashing it.\n",
      "To change this limit, set the config variable\n",
      "`--NotebookApp.iopub_data_rate_limit`.\n",
      "\n",
      "Current values:\n",
      "NotebookApp.iopub_data_rate_limit=1000000.0 (bytes/sec)\n",
      "NotebookApp.rate_limit_window=3.0 (secs)\n",
      "\n"
     ]
    },
    {
     "name": "stdout",
     "output_type": "stream",
     "text": [
      "[0.0407, 0.72, 0.643, 9.33e-06, 0.156, -4.545, 0.0435, 116.956, 0.714]\n"
     ]
    },
    {
     "name": "stderr",
     "output_type": "stream",
     "text": [
      "/anaconda3/lib/python3.7/site-packages/sklearn/linear_model/logistic.py:433: FutureWarning: Default solver will be changed to 'lbfgs' in 0.22. Specify a solver to silence this warning.\n",
      "  FutureWarning)\n"
     ]
    },
    {
     "name": "stdout",
     "output_type": "stream",
     "text": [
      "Alternative\n",
      "5300\n",
      "Blues\n"
     ]
    },
    {
     "name": "stderr",
     "output_type": "stream",
     "text": [
      "IOPub data rate exceeded.\n",
      "The notebook server will temporarily stop sending output\n",
      "to the client in order to avoid crashing it.\n",
      "To change this limit, set the config variable\n",
      "`--NotebookApp.iopub_data_rate_limit`.\n",
      "\n",
      "Current values:\n",
      "NotebookApp.iopub_data_rate_limit=1000000.0 (bytes/sec)\n",
      "NotebookApp.rate_limit_window=3.0 (secs)\n",
      "\n"
     ]
    },
    {
     "name": "stdout",
     "output_type": "stream",
     "text": [
      "[0.0407, 0.72, 0.643, 9.33e-06, 0.156, -4.545, 0.0435, 116.956, 0.714]\n"
     ]
    },
    {
     "name": "stderr",
     "output_type": "stream",
     "text": [
      "/anaconda3/lib/python3.7/site-packages/sklearn/linear_model/logistic.py:433: FutureWarning: Default solver will be changed to 'lbfgs' in 0.22. Specify a solver to silence this warning.\n",
      "  FutureWarning)\n"
     ]
    },
    {
     "name": "stdout",
     "output_type": "stream",
     "text": [
      "Blues\n",
      "3295\n",
      "R&B\n"
     ]
    },
    {
     "name": "stderr",
     "output_type": "stream",
     "text": [
      "IOPub data rate exceeded.\n",
      "The notebook server will temporarily stop sending output\n",
      "to the client in order to avoid crashing it.\n",
      "To change this limit, set the config variable\n",
      "`--NotebookApp.iopub_data_rate_limit`.\n",
      "\n",
      "Current values:\n",
      "NotebookApp.iopub_data_rate_limit=1000000.0 (bytes/sec)\n",
      "NotebookApp.rate_limit_window=3.0 (secs)\n",
      "\n"
     ]
    },
    {
     "name": "stdout",
     "output_type": "stream",
     "text": [
      "[0.0407, 0.72, 0.643, 9.33e-06, 0.156, -4.545, 0.0435, 116.956, 0.714]\n"
     ]
    },
    {
     "name": "stderr",
     "output_type": "stream",
     "text": [
      "/anaconda3/lib/python3.7/site-packages/sklearn/linear_model/logistic.py:433: FutureWarning: Default solver will be changed to 'lbfgs' in 0.22. Specify a solver to silence this warning.\n",
      "  FutureWarning)\n"
     ]
    },
    {
     "name": "stdout",
     "output_type": "stream",
     "text": [
      "R&B\n",
      "4869\n",
      "World\n"
     ]
    },
    {
     "name": "stderr",
     "output_type": "stream",
     "text": [
      "IOPub data rate exceeded.\n",
      "The notebook server will temporarily stop sending output\n",
      "to the client in order to avoid crashing it.\n",
      "To change this limit, set the config variable\n",
      "`--NotebookApp.iopub_data_rate_limit`.\n",
      "\n",
      "Current values:\n",
      "NotebookApp.iopub_data_rate_limit=1000000.0 (bytes/sec)\n",
      "NotebookApp.rate_limit_window=3.0 (secs)\n",
      "\n"
     ]
    },
    {
     "name": "stdout",
     "output_type": "stream",
     "text": [
      "[0.0407, 0.72, 0.643, 9.33e-06, 0.156, -4.545, 0.0435, 116.956, 0.714]\n"
     ]
    },
    {
     "name": "stderr",
     "output_type": "stream",
     "text": [
      "/anaconda3/lib/python3.7/site-packages/sklearn/linear_model/logistic.py:433: FutureWarning: Default solver will be changed to 'lbfgs' in 0.22. Specify a solver to silence this warning.\n",
      "  FutureWarning)\n"
     ]
    },
    {
     "name": "stdout",
     "output_type": "stream",
     "text": [
      "World\n",
      "8038\n",
      "Dance\n"
     ]
    },
    {
     "name": "stderr",
     "output_type": "stream",
     "text": [
      "IOPub data rate exceeded.\n",
      "The notebook server will temporarily stop sending output\n",
      "to the client in order to avoid crashing it.\n",
      "To change this limit, set the config variable\n",
      "`--NotebookApp.iopub_data_rate_limit`.\n",
      "\n",
      "Current values:\n",
      "NotebookApp.iopub_data_rate_limit=1000000.0 (bytes/sec)\n",
      "NotebookApp.rate_limit_window=3.0 (secs)\n",
      "\n"
     ]
    },
    {
     "name": "stdout",
     "output_type": "stream",
     "text": [
      "[0.0407, 0.72, 0.643, 9.33e-06, 0.156, -4.545, 0.0435, 116.956, 0.714]\n"
     ]
    },
    {
     "name": "stderr",
     "output_type": "stream",
     "text": [
      "/anaconda3/lib/python3.7/site-packages/sklearn/linear_model/logistic.py:433: FutureWarning: Default solver will be changed to 'lbfgs' in 0.22. Specify a solver to silence this warning.\n",
      "  FutureWarning)\n"
     ]
    },
    {
     "name": "stdout",
     "output_type": "stream",
     "text": [
      "Dance\n",
      "8298\n",
      "Soul\n"
     ]
    },
    {
     "name": "stderr",
     "output_type": "stream",
     "text": [
      "IOPub data rate exceeded.\n",
      "The notebook server will temporarily stop sending output\n",
      "to the client in order to avoid crashing it.\n",
      "To change this limit, set the config variable\n",
      "`--NotebookApp.iopub_data_rate_limit`.\n",
      "\n",
      "Current values:\n",
      "NotebookApp.iopub_data_rate_limit=1000000.0 (bytes/sec)\n",
      "NotebookApp.rate_limit_window=3.0 (secs)\n",
      "\n"
     ]
    },
    {
     "name": "stdout",
     "output_type": "stream",
     "text": [
      "[0.0407, 0.72, 0.643, 9.33e-06, 0.156, -4.545, 0.0435, 116.956, 0.714]\n"
     ]
    },
    {
     "name": "stderr",
     "output_type": "stream",
     "text": [
      "/anaconda3/lib/python3.7/site-packages/sklearn/linear_model/logistic.py:433: FutureWarning: Default solver will be changed to 'lbfgs' in 0.22. Specify a solver to silence this warning.\n",
      "  FutureWarning)\n"
     ]
    },
    {
     "name": "stdout",
     "output_type": "stream",
     "text": [
      "Soul\n",
      "5058\n",
      "Hip-Hop\n"
     ]
    },
    {
     "name": "stderr",
     "output_type": "stream",
     "text": [
      "IOPub data rate exceeded.\n",
      "The notebook server will temporarily stop sending output\n",
      "to the client in order to avoid crashing it.\n",
      "To change this limit, set the config variable\n",
      "`--NotebookApp.iopub_data_rate_limit`.\n",
      "\n",
      "Current values:\n",
      "NotebookApp.iopub_data_rate_limit=1000000.0 (bytes/sec)\n",
      "NotebookApp.rate_limit_window=3.0 (secs)\n",
      "\n"
     ]
    },
    {
     "name": "stdout",
     "output_type": "stream",
     "text": [
      "[0.0407, 0.72, 0.643, 9.33e-06, 0.156, -4.545, 0.0435, 116.956, 0.714]\n"
     ]
    },
    {
     "name": "stderr",
     "output_type": "stream",
     "text": [
      "/anaconda3/lib/python3.7/site-packages/sklearn/linear_model/logistic.py:433: FutureWarning: Default solver will be changed to 'lbfgs' in 0.22. Specify a solver to silence this warning.\n",
      "  FutureWarning)\n"
     ]
    },
    {
     "name": "stdout",
     "output_type": "stream",
     "text": [
      "Hip-Hop\n",
      "2285\n",
      "Reggae\n"
     ]
    },
    {
     "name": "stderr",
     "output_type": "stream",
     "text": [
      "IOPub data rate exceeded.\n",
      "The notebook server will temporarily stop sending output\n",
      "to the client in order to avoid crashing it.\n",
      "To change this limit, set the config variable\n",
      "`--NotebookApp.iopub_data_rate_limit`.\n",
      "\n",
      "Current values:\n",
      "NotebookApp.iopub_data_rate_limit=1000000.0 (bytes/sec)\n",
      "NotebookApp.rate_limit_window=3.0 (secs)\n",
      "\n"
     ]
    },
    {
     "name": "stdout",
     "output_type": "stream",
     "text": [
      "[0.0407, 0.72, 0.643, 9.33e-06, 0.156, -4.545, 0.0435, 116.956, 0.714]\n"
     ]
    },
    {
     "name": "stderr",
     "output_type": "stream",
     "text": [
      "/anaconda3/lib/python3.7/site-packages/sklearn/linear_model/logistic.py:433: FutureWarning: Default solver will be changed to 'lbfgs' in 0.22. Specify a solver to silence this warning.\n",
      "  FutureWarning)\n"
     ]
    },
    {
     "name": "stdout",
     "output_type": "stream",
     "text": [
      "Reggae\n",
      "8711\n",
      "Country\n"
     ]
    },
    {
     "name": "stderr",
     "output_type": "stream",
     "text": [
      "IOPub data rate exceeded.\n",
      "The notebook server will temporarily stop sending output\n",
      "to the client in order to avoid crashing it.\n",
      "To change this limit, set the config variable\n",
      "`--NotebookApp.iopub_data_rate_limit`.\n",
      "\n",
      "Current values:\n",
      "NotebookApp.iopub_data_rate_limit=1000000.0 (bytes/sec)\n",
      "NotebookApp.rate_limit_window=3.0 (secs)\n",
      "\n"
     ]
    },
    {
     "name": "stdout",
     "output_type": "stream",
     "text": [
      "[0.0407, 0.72, 0.643, 9.33e-06, 0.156, -4.545, 0.0435, 116.956, 0.714]\n"
     ]
    },
    {
     "name": "stderr",
     "output_type": "stream",
     "text": [
      "/anaconda3/lib/python3.7/site-packages/sklearn/linear_model/logistic.py:433: FutureWarning: Default solver will be changed to 'lbfgs' in 0.22. Specify a solver to silence this warning.\n",
      "  FutureWarning)\n"
     ]
    },
    {
     "name": "stdout",
     "output_type": "stream",
     "text": [
      "Country\n",
      "7325\n",
      "Electronic\n"
     ]
    },
    {
     "name": "stderr",
     "output_type": "stream",
     "text": [
      "IOPub data rate exceeded.\n",
      "The notebook server will temporarily stop sending output\n",
      "to the client in order to avoid crashing it.\n",
      "To change this limit, set the config variable\n",
      "`--NotebookApp.iopub_data_rate_limit`.\n",
      "\n",
      "Current values:\n",
      "NotebookApp.iopub_data_rate_limit=1000000.0 (bytes/sec)\n",
      "NotebookApp.rate_limit_window=3.0 (secs)\n",
      "\n"
     ]
    },
    {
     "name": "stdout",
     "output_type": "stream",
     "text": [
      "[0.0407, 0.72, 0.643, 9.33e-06, 0.156, -4.545, 0.0435, 116.956, 0.714]\n"
     ]
    },
    {
     "name": "stderr",
     "output_type": "stream",
     "text": [
      "/anaconda3/lib/python3.7/site-packages/sklearn/linear_model/logistic.py:433: FutureWarning: Default solver will be changed to 'lbfgs' in 0.22. Specify a solver to silence this warning.\n",
      "  FutureWarning)\n"
     ]
    },
    {
     "name": "stdout",
     "output_type": "stream",
     "text": [
      "Electronic\n",
      "9149\n",
      "Rock\n"
     ]
    },
    {
     "name": "stderr",
     "output_type": "stream",
     "text": [
      "IOPub data rate exceeded.\n",
      "The notebook server will temporarily stop sending output\n",
      "to the client in order to avoid crashing it.\n",
      "To change this limit, set the config variable\n",
      "`--NotebookApp.iopub_data_rate_limit`.\n",
      "\n",
      "Current values:\n",
      "NotebookApp.iopub_data_rate_limit=1000000.0 (bytes/sec)\n",
      "NotebookApp.rate_limit_window=3.0 (secs)\n",
      "\n"
     ]
    },
    {
     "name": "stdout",
     "output_type": "stream",
     "text": [
      "[0.0407, 0.72, 0.643, 9.33e-06, 0.156, -4.545, 0.0435, 116.956, 0.714]\n"
     ]
    },
    {
     "name": "stderr",
     "output_type": "stream",
     "text": [
      "/anaconda3/lib/python3.7/site-packages/sklearn/linear_model/logistic.py:433: FutureWarning: Default solver will be changed to 'lbfgs' in 0.22. Specify a solver to silence this warning.\n",
      "  FutureWarning)\n"
     ]
    },
    {
     "name": "stdout",
     "output_type": "stream",
     "text": [
      "Rock\n",
      "2070\n",
      "Comedy\n"
     ]
    },
    {
     "name": "stderr",
     "output_type": "stream",
     "text": [
      "IOPub data rate exceeded.\n",
      "The notebook server will temporarily stop sending output\n",
      "to the client in order to avoid crashing it.\n",
      "To change this limit, set the config variable\n",
      "`--NotebookApp.iopub_data_rate_limit`.\n",
      "\n",
      "Current values:\n",
      "NotebookApp.iopub_data_rate_limit=1000000.0 (bytes/sec)\n",
      "NotebookApp.rate_limit_window=3.0 (secs)\n",
      "\n"
     ]
    },
    {
     "name": "stdout",
     "output_type": "stream",
     "text": [
      "[0.0407, 0.72, 0.643, 9.33e-06, 0.156, -4.545, 0.0435, 116.956, 0.714]\n"
     ]
    },
    {
     "name": "stderr",
     "output_type": "stream",
     "text": [
      "/anaconda3/lib/python3.7/site-packages/sklearn/linear_model/logistic.py:433: FutureWarning: Default solver will be changed to 'lbfgs' in 0.22. Specify a solver to silence this warning.\n",
      "  FutureWarning)\n"
     ]
    },
    {
     "name": "stdout",
     "output_type": "stream",
     "text": [
      "Comedy\n",
      "9676\n",
      "Folk\n"
     ]
    },
    {
     "name": "stderr",
     "output_type": "stream",
     "text": [
      "IOPub data rate exceeded.\n",
      "The notebook server will temporarily stop sending output\n",
      "to the client in order to avoid crashing it.\n",
      "To change this limit, set the config variable\n",
      "`--NotebookApp.iopub_data_rate_limit`.\n",
      "\n",
      "Current values:\n",
      "NotebookApp.iopub_data_rate_limit=1000000.0 (bytes/sec)\n",
      "NotebookApp.rate_limit_window=3.0 (secs)\n",
      "\n"
     ]
    },
    {
     "name": "stdout",
     "output_type": "stream",
     "text": [
      "[0.0407, 0.72, 0.643, 9.33e-06, 0.156, -4.545, 0.0435, 116.956, 0.714]\n"
     ]
    },
    {
     "name": "stderr",
     "output_type": "stream",
     "text": [
      "/anaconda3/lib/python3.7/site-packages/sklearn/linear_model/logistic.py:433: FutureWarning: Default solver will be changed to 'lbfgs' in 0.22. Specify a solver to silence this warning.\n",
      "  FutureWarning)\n"
     ]
    },
    {
     "name": "stdout",
     "output_type": "stream",
     "text": [
      "Folk\n",
      "7801\n",
      "Jazz\n"
     ]
    },
    {
     "name": "stderr",
     "output_type": "stream",
     "text": [
      "IOPub data rate exceeded.\n",
      "The notebook server will temporarily stop sending output\n",
      "to the client in order to avoid crashing it.\n",
      "To change this limit, set the config variable\n",
      "`--NotebookApp.iopub_data_rate_limit`.\n",
      "\n",
      "Current values:\n",
      "NotebookApp.iopub_data_rate_limit=1000000.0 (bytes/sec)\n",
      "NotebookApp.rate_limit_window=3.0 (secs)\n",
      "\n"
     ]
    },
    {
     "name": "stdout",
     "output_type": "stream",
     "text": [
      "[0.0407, 0.72, 0.643, 9.33e-06, 0.156, -4.545, 0.0435, 116.956, 0.714]\n"
     ]
    },
    {
     "name": "stderr",
     "output_type": "stream",
     "text": [
      "/anaconda3/lib/python3.7/site-packages/sklearn/linear_model/logistic.py:433: FutureWarning: Default solver will be changed to 'lbfgs' in 0.22. Specify a solver to silence this warning.\n",
      "  FutureWarning)\n"
     ]
    },
    {
     "name": "stdout",
     "output_type": "stream",
     "text": [
      "Jazz\n",
      "8144\n",
      "Ska\n"
     ]
    },
    {
     "name": "stderr",
     "output_type": "stream",
     "text": [
      "IOPub data rate exceeded.\n",
      "The notebook server will temporarily stop sending output\n",
      "to the client in order to avoid crashing it.\n",
      "To change this limit, set the config variable\n",
      "`--NotebookApp.iopub_data_rate_limit`.\n",
      "\n",
      "Current values:\n",
      "NotebookApp.iopub_data_rate_limit=1000000.0 (bytes/sec)\n",
      "NotebookApp.rate_limit_window=3.0 (secs)\n",
      "\n"
     ]
    },
    {
     "name": "stdout",
     "output_type": "stream",
     "text": [
      "[0.0407, 0.72, 0.643, 9.33e-06, 0.156, -4.545, 0.0435, 116.956, 0.714]\n"
     ]
    },
    {
     "name": "stderr",
     "output_type": "stream",
     "text": [
      "/anaconda3/lib/python3.7/site-packages/sklearn/linear_model/logistic.py:433: FutureWarning: Default solver will be changed to 'lbfgs' in 0.22. Specify a solver to silence this warning.\n",
      "  FutureWarning)\n"
     ]
    },
    {
     "name": "stdout",
     "output_type": "stream",
     "text": [
      "Ska\n",
      "8022\n",
      "Rap\n"
     ]
    },
    {
     "name": "stderr",
     "output_type": "stream",
     "text": [
      "IOPub data rate exceeded.\n",
      "The notebook server will temporarily stop sending output\n",
      "to the client in order to avoid crashing it.\n",
      "To change this limit, set the config variable\n",
      "`--NotebookApp.iopub_data_rate_limit`.\n",
      "\n",
      "Current values:\n",
      "NotebookApp.iopub_data_rate_limit=1000000.0 (bytes/sec)\n",
      "NotebookApp.rate_limit_window=3.0 (secs)\n",
      "\n"
     ]
    },
    {
     "name": "stdout",
     "output_type": "stream",
     "text": [
      "[0.0407, 0.72, 0.643, 9.33e-06, 0.156, -4.545, 0.0435, 116.956, 0.714]\n"
     ]
    },
    {
     "name": "stderr",
     "output_type": "stream",
     "text": [
      "/anaconda3/lib/python3.7/site-packages/sklearn/linear_model/logistic.py:433: FutureWarning: Default solver will be changed to 'lbfgs' in 0.22. Specify a solver to silence this warning.\n",
      "  FutureWarning)\n"
     ]
    },
    {
     "name": "stdout",
     "output_type": "stream",
     "text": [
      "Rap\n",
      "4519\n",
      "Reggaeton\n"
     ]
    },
    {
     "name": "stderr",
     "output_type": "stream",
     "text": [
      "IOPub data rate exceeded.\n",
      "The notebook server will temporarily stop sending output\n",
      "to the client in order to avoid crashing it.\n",
      "To change this limit, set the config variable\n",
      "`--NotebookApp.iopub_data_rate_limit`.\n",
      "\n",
      "Current values:\n",
      "NotebookApp.iopub_data_rate_limit=1000000.0 (bytes/sec)\n",
      "NotebookApp.rate_limit_window=3.0 (secs)\n",
      "\n"
     ]
    },
    {
     "name": "stdout",
     "output_type": "stream",
     "text": [
      "[0.0407, 0.72, 0.643, 9.33e-06, 0.156, -4.545, 0.0435, 116.956, 0.714]\n"
     ]
    },
    {
     "name": "stderr",
     "output_type": "stream",
     "text": [
      "/anaconda3/lib/python3.7/site-packages/sklearn/linear_model/logistic.py:433: FutureWarning: Default solver will be changed to 'lbfgs' in 0.22. Specify a solver to silence this warning.\n",
      "  FutureWarning)\n"
     ]
    },
    {
     "name": "stdout",
     "output_type": "stream",
     "text": [
      "Reggaeton\n",
      "8537\n",
      "Indie\n"
     ]
    },
    {
     "name": "stderr",
     "output_type": "stream",
     "text": [
      "IOPub data rate exceeded.\n",
      "The notebook server will temporarily stop sending output\n",
      "to the client in order to avoid crashing it.\n",
      "To change this limit, set the config variable\n",
      "`--NotebookApp.iopub_data_rate_limit`.\n",
      "\n",
      "Current values:\n",
      "NotebookApp.iopub_data_rate_limit=1000000.0 (bytes/sec)\n",
      "NotebookApp.rate_limit_window=3.0 (secs)\n",
      "\n"
     ]
    },
    {
     "name": "stdout",
     "output_type": "stream",
     "text": [
      "[0.0407, 0.72, 0.643, 9.33e-06, 0.156, -4.545, 0.0435, 116.956, 0.714]\n"
     ]
    },
    {
     "name": "stderr",
     "output_type": "stream",
     "text": [
      "/anaconda3/lib/python3.7/site-packages/sklearn/linear_model/logistic.py:433: FutureWarning: Default solver will be changed to 'lbfgs' in 0.22. Specify a solver to silence this warning.\n",
      "  FutureWarning)\n"
     ]
    },
    {
     "name": "stdout",
     "output_type": "stream",
     "text": [
      "Indie\n",
      "2781\n",
      "Classical\n"
     ]
    },
    {
     "name": "stderr",
     "output_type": "stream",
     "text": [
      "IOPub data rate exceeded.\n",
      "The notebook server will temporarily stop sending output\n",
      "to the client in order to avoid crashing it.\n",
      "To change this limit, set the config variable\n",
      "`--NotebookApp.iopub_data_rate_limit`.\n",
      "\n",
      "Current values:\n",
      "NotebookApp.iopub_data_rate_limit=1000000.0 (bytes/sec)\n",
      "NotebookApp.rate_limit_window=3.0 (secs)\n",
      "\n"
     ]
    },
    {
     "name": "stdout",
     "output_type": "stream",
     "text": [
      "[0.0407, 0.72, 0.643, 9.33e-06, 0.156, -4.545, 0.0435, 116.956, 0.714]\n"
     ]
    },
    {
     "name": "stderr",
     "output_type": "stream",
     "text": [
      "/anaconda3/lib/python3.7/site-packages/sklearn/linear_model/logistic.py:433: FutureWarning: Default solver will be changed to 'lbfgs' in 0.22. Specify a solver to silence this warning.\n",
      "  FutureWarning)\n"
     ]
    },
    {
     "name": "stdout",
     "output_type": "stream",
     "text": [
      "Classical\n",
      "9250\n",
      "Soundtrack\n"
     ]
    },
    {
     "name": "stderr",
     "output_type": "stream",
     "text": [
      "IOPub data rate exceeded.\n",
      "The notebook server will temporarily stop sending output\n",
      "to the client in order to avoid crashing it.\n",
      "To change this limit, set the config variable\n",
      "`--NotebookApp.iopub_data_rate_limit`.\n",
      "\n",
      "Current values:\n",
      "NotebookApp.iopub_data_rate_limit=1000000.0 (bytes/sec)\n",
      "NotebookApp.rate_limit_window=3.0 (secs)\n",
      "\n"
     ]
    },
    {
     "name": "stdout",
     "output_type": "stream",
     "text": [
      "[0.0407, 0.72, 0.643, 9.33e-06, 0.156, -4.545, 0.0435, 116.956, 0.714]\n"
     ]
    },
    {
     "name": "stderr",
     "output_type": "stream",
     "text": [
      "/anaconda3/lib/python3.7/site-packages/sklearn/linear_model/logistic.py:433: FutureWarning: Default solver will be changed to 'lbfgs' in 0.22. Specify a solver to silence this warning.\n",
      "  FutureWarning)\n"
     ]
    },
    {
     "name": "stdout",
     "output_type": "stream",
     "text": [
      "Soundtrack\n",
      "8967\n",
      "Opera\n"
     ]
    },
    {
     "name": "stderr",
     "output_type": "stream",
     "text": [
      "IOPub data rate exceeded.\n",
      "The notebook server will temporarily stop sending output\n",
      "to the client in order to avoid crashing it.\n",
      "To change this limit, set the config variable\n",
      "`--NotebookApp.iopub_data_rate_limit`.\n",
      "\n",
      "Current values:\n",
      "NotebookApp.iopub_data_rate_limit=1000000.0 (bytes/sec)\n",
      "NotebookApp.rate_limit_window=3.0 (secs)\n",
      "\n"
     ]
    },
    {
     "name": "stdout",
     "output_type": "stream",
     "text": [
      "[0.0407, 0.72, 0.643, 9.33e-06, 0.156, -4.545, 0.0435, 116.956, 0.714]\n"
     ]
    },
    {
     "name": "stderr",
     "output_type": "stream",
     "text": [
      "/anaconda3/lib/python3.7/site-packages/sklearn/linear_model/logistic.py:433: FutureWarning: Default solver will be changed to 'lbfgs' in 0.22. Specify a solver to silence this warning.\n",
      "  FutureWarning)\n"
     ]
    },
    {
     "name": "stdout",
     "output_type": "stream",
     "text": [
      "Opera\n",
      "7891\n",
      "Movie\n"
     ]
    },
    {
     "name": "stderr",
     "output_type": "stream",
     "text": [
      "IOPub data rate exceeded.\n",
      "The notebook server will temporarily stop sending output\n",
      "to the client in order to avoid crashing it.\n",
      "To change this limit, set the config variable\n",
      "`--NotebookApp.iopub_data_rate_limit`.\n",
      "\n",
      "Current values:\n",
      "NotebookApp.iopub_data_rate_limit=1000000.0 (bytes/sec)\n",
      "NotebookApp.rate_limit_window=3.0 (secs)\n",
      "\n"
     ]
    },
    {
     "name": "stdout",
     "output_type": "stream",
     "text": [
      "[0.0407, 0.72, 0.643, 9.33e-06, 0.156, -4.545, 0.0435, 116.956, 0.714]\n"
     ]
    },
    {
     "name": "stderr",
     "output_type": "stream",
     "text": [
      "/anaconda3/lib/python3.7/site-packages/sklearn/linear_model/logistic.py:433: FutureWarning: Default solver will be changed to 'lbfgs' in 0.22. Specify a solver to silence this warning.\n",
      "  FutureWarning)\n"
     ]
    },
    {
     "name": "stdout",
     "output_type": "stream",
     "text": [
      "Movie\n",
      "7555\n",
      "A Capella\n"
     ]
    },
    {
     "name": "stderr",
     "output_type": "stream",
     "text": [
      "IOPub data rate exceeded.\n",
      "The notebook server will temporarily stop sending output\n",
      "to the client in order to avoid crashing it.\n",
      "To change this limit, set the config variable\n",
      "`--NotebookApp.iopub_data_rate_limit`.\n",
      "\n",
      "Current values:\n",
      "NotebookApp.iopub_data_rate_limit=1000000.0 (bytes/sec)\n",
      "NotebookApp.rate_limit_window=3.0 (secs)\n",
      "\n"
     ]
    },
    {
     "name": "stdout",
     "output_type": "stream",
     "text": [
      "[0.0407, 0.72, 0.643, 9.33e-06, 0.156, -4.545, 0.0435, 116.956, 0.714]\n"
     ]
    },
    {
     "name": "stderr",
     "output_type": "stream",
     "text": [
      "/anaconda3/lib/python3.7/site-packages/sklearn/linear_model/logistic.py:433: FutureWarning: Default solver will be changed to 'lbfgs' in 0.22. Specify a solver to silence this warning.\n",
      "  FutureWarning)\n"
     ]
    },
    {
     "name": "stdout",
     "output_type": "stream",
     "text": [
      "A Capella\n",
      "119\n",
      "[0.0116, 0.669, 0.789, 4.72e-06, 0.387, -5.134, 0.0518, 87.57, 0.543]\n",
      "76878\n"
     ]
    },
    {
     "name": "stderr",
     "output_type": "stream",
     "text": [
      "IOPub data rate exceeded.\n",
      "The notebook server will temporarily stop sending output\n",
      "to the client in order to avoid crashing it.\n",
      "To change this limit, set the config variable\n",
      "`--NotebookApp.iopub_data_rate_limit`.\n",
      "\n",
      "Current values:\n",
      "NotebookApp.iopub_data_rate_limit=1000000.0 (bytes/sec)\n",
      "NotebookApp.rate_limit_window=3.0 (secs)\n",
      "\n"
     ]
    }
   ],
   "source": [
    "from sklearn.model_selection import KFold\n",
    "kf = KFold(n_splits=2, shuffle=True)\n",
    "desFeat2 = [4, 5, 7, 8, 10, 11, 13, 14, 16] \n",
    "numericalFeatures, songIds = numericalFeaturesOnly(allFeaturesMatrix, desFeat2) \n",
    "\n",
    "genreToModel = {}\n",
    "for train_index, test_index in kf.split(allFeaturesMatrix):\n",
    "    print(train_index)\n",
    "    X_train, X_test = [allFeaturesMatrix[j] for j in train_index], [allFeaturesMatrix[j] for j in test_index]\n",
    "#     songIdsTrain = [songIds[j] for j in train_index]\n",
    "    print(len(allFeaturesMatrix))\n",
    "    print(\"SONG ID\")\n",
    "    print(songIds[1])\n",
    "    songIdsTest = [songIds[j] for j in test_index]\n",
    "    \n",
    "    #     X_train, X_test = allFeaturesMatrix[train_index], allFeaturesMatrix[test_index]\n",
    "    for i in range(1, len(genreStrings)): \n",
    "        mdl = LogisticRegression() \n",
    "        genreArray = [] \n",
    "    #     genreDict = {} \n",
    "        print(genreStrings[i]) \n",
    "        \n",
    "        makeGenreDict(\"SpotifyFeatures.csv\" , genreStrings[i], genreArray) \n",
    "        print(genreDict)\n",
    "        y_train, y_test = [genreArray[j] for j in train_index], [genreArray[j] for j in test_index]\n",
    "#         y_train, y_test = genreArray[train_index], genreArray[test_index]\n",
    "    #     X_train, X_test, y_train, y_test = train_test_split(numericalFeatures, genreArray,test_size=0.005)\n",
    "    #     print(genreArray) \n",
    "        print(X_train[1])\n",
    "        numericalFeatures, dfbnhjf = numericalFeaturesOnly(X_train, desFeat2) \n",
    "        print(numericalFeatures[1])\n",
    "        fittedmdl = mdl.fit(numericalFeatures, y_train) \n",
    "    #     fittedmdl = mdl.fit(X_train, y_train) \n",
    "    #     genreToTest[genreStrings[i]] = (X_test, y_test)\n",
    "        print(genreStrings[i]) \n",
    "        print(sum(genreArray)) \n",
    "    #     print(fittedmdl.coef_) \n",
    "        floats = as_float_array(fittedmdl.coef_, copy=True) \n",
    "        genreToCoefficients[genreStrings[i]] = floats \n",
    "        genreArrayDict[genreStrings[i]] = genreArray \n",
    "        masterGenreDict[genreStrings[i]] = genreDict \n",
    "        genreToModel[genreStrings[i]] = fittedmdl \n",
    "        numIncorrectClass = 0 \n",
    "    totalClassified = 0 \n",
    "    # print(X_test)\n",
    "    # numInc, totalUpdate = outRes2(X_test, y_test)\n",
    "    numericalFeaturesTest, songhh = numericalFeaturesOnly(X_test, desFeat2) \n",
    "    print(numericalFeaturesTest[0])\n",
    "    print(len(y_test))\n",
    "    numInc, totalUpdate = outRes2(numericalFeaturesTest, y_test, songIdsTest)\n",
    "print(topThreePredictions)\n",
    "                                  "
   ]
  },
  {
   "cell_type": "code",
   "execution_count": 3,
   "metadata": {},
   "outputs": [],
   "source": [
    "# from sklearn.model_selection import KFold\n",
    "# kf = KFold(n_splits=2, shuffle=True)\n",
    "# numericalFeatures = numericalFeaturesOnly(allFeaturesMatrix, desFeat2) \n",
    "\n",
    "# for train_index, test_index in kf.split(allFeaturesMatrix):\n",
    "#     X_train, X_test = allFeaturesMatrix[train_index], allFeaturesMatrix[test_index]\n",
    "#     for i in range(1, len(genreStrings)): \n",
    "#         mdl = LogisticRegression() \n",
    "#         genreArray = [] \n",
    "#     #     genreDict = {} \n",
    "#         print(genreStrings[i]) \n",
    "        \n",
    "#         makeGenreDict(\"SpotifyFeatures.csv\" , genreStrings[i], genreArray) \n",
    "#         y_train, y_test = genreArray[train_index], genreArray[test_index]\n",
    "#     #     X_train, X_test, y_train, y_test = train_test_split(numericalFeatures, genreArray,test_size=0.005)\n",
    "#     #     print(genreArray) \n",
    "#         fittedmdl = mdl.fit(X_train, y_train) \n",
    "#     #     fittedmdl = mdl.fit(X_train, y_train) \n",
    "#     #     genreToTest[genreStrings[i]] = (X_test, y_test)\n",
    "#         print(genreStrings[i]) \n",
    "#         print(sum(genreArray)) \n",
    "#     #     print(fittedmdl.coef_) \n",
    "#         floats = as_float_array(fittedmdl.coef_, copy=True) \n",
    "#         genreToCoefficients[genreStrings[i]] = floats \n",
    "#         genreArrayDict[genreStrings[i]] = genreArray \n",
    "#         masterGenreDict[genreStrings[i]] = genreDict \n",
    "#         genreToModel[genreStrings[i]] = fittedmdl \n",
    "#         numIncorrectClass = 0 \n",
    "#     totalClassified = 0 \n",
    "#     # print(X_test)\n",
    "#     # numInc, totalUpdate = outRes2(X_test, y_test)\n",
    "#     numInc, totalUpdate = outRes2(X_test, y_test) \n",
    "    \n",
    "\n",
    "#     totalClassified += totalUpdate \n",
    "#     numIncorrectClass += numInc \n",
    "#     print(numIncorrectClass) \n",
    "#     print(totalClassified) \n",
    "\n",
    "#     # print(numIncorrect) \n",
    "#     print(float(numIncorrectClass)/float(totalClassified))\n",
    "#     print(misclassified)\n",
    "#     print(misclassifiedPopSongs)\n"
   ]
  },
  {
   "cell_type": "code",
   "execution_count": 4,
   "metadata": {},
   "outputs": [],
   "source": [
    "# desiredFeatures = [4,5,8,10,11,13,14,16] \n",
    "# # desFeat2 = [4, 5, 7, 8, 10, 11, 13, 14, 16] \n",
    "# desFeat2 = [4, 5, 7, 8, 10, 11, 13, 14, 16] \n",
    "# # desFeat3 = [4, 5, 7, 8, 13] \n",
    "# #just the numerical features sans artist/titles/genre/id \n",
    "# numericalFeatures = numericalFeaturesOnly(allFeaturesMatrix, desFeat2) \n",
    "# print(numericalFeatures[0])\n",
    "# # model = LogisticRegression() \n",
    "# # model.fit(allFeaturesMatrix, genreArray) \n",
    "# # print(allFeaturesMatrix) \n",
    "# genreToModel = {} \n",
    "# # genreArrays \n",
    "# genreToTest = {}\n",
    "# for i in range(1, len(genreStrings)): \n",
    "#     mdl = LogisticRegression() \n",
    "#     genreArray = [] \n",
    "# #     genreDict = {} \n",
    "#     print(genreStrings[i]) \n",
    "#     makeGenreDict(\"SpotifyFeatures.csv\" , genreStrings[i], genreArray) \n",
    "# #     X_train, X_test, y_train, y_test = train_test_split(numericalFeatures, genreArray,test_size=0.005)\n",
    "# #     print(genreArray) \n",
    "#     fittedmdl = mdl.fit(numericalFeatures, genreArray) \n",
    "# #     fittedmdl = mdl.fit(X_train, y_train) \n",
    "# #     genreToTest[genreStrings[i]] = (X_test, y_test)\n",
    "#     print(genreStrings[i]) \n",
    "#     print(sum(genreArray)) \n",
    "# #     print(fittedmdl.coef_) \n",
    "#     floats = as_float_array(fittedmdl.coef_, copy=True) \n",
    "#     genreToCoefficients[genreStrings[i]] = floats \n",
    "#     genreArrayDict[genreStrings[i]] = genreArray \n",
    "#     masterGenreDict[genreStrings[i]] = genreDict \n",
    "#     genreToModel[genreStrings[i]] = fittedmdl \n",
    "\n",
    "\n",
    "#   # predicted_classes = model.predict(X) \n",
    "#   # accuracy = accuracy_score(genreArray.flatten(),predicted_classes) \n",
    "#   # parameters = model.coef_  \n",
    "\n",
    "\n",
    "\n",
    "#   # print(genreToCoefficients) \n"
   ]
  },
  {
   "cell_type": "code",
   "execution_count": 5,
   "metadata": {},
   "outputs": [],
   "source": [
    "\n",
    "# numIncorrectClass = 0 \n",
    "# totalClassified = 0 \n",
    "# # print(X_test)\n",
    "# # numInc, totalUpdate = outRes2(X_test, y_test)\n",
    "# numInc, totalUpdate = outputResults(desFeat2) \n",
    "\n",
    "# totalClassified += totalUpdate \n",
    "# numIncorrectClass += numInc \n",
    "# print(numIncorrectClass) \n",
    "# print(totalClassified) \n",
    "\n",
    "# # print(numIncorrect) \n",
    "# print(float(numIncorrectClass)/float(totalClassified))\n",
    "# print(misclassified)\n",
    "# print(misclassifiedPopSongs)\n"
   ]
  },
  {
   "cell_type": "code",
   "execution_count": null,
   "metadata": {},
   "outputs": [],
   "source": []
  },
  {
   "cell_type": "code",
   "execution_count": null,
   "metadata": {},
   "outputs": [],
   "source": []
  }
 ],
 "metadata": {
  "kernelspec": {
   "display_name": "Python 3",
   "language": "python",
   "name": "python3"
  },
  "language_info": {
   "codemirror_mode": {
    "name": "ipython",
    "version": 3
   },
   "file_extension": ".py",
   "mimetype": "text/x-python",
   "name": "python",
   "nbconvert_exporter": "python",
   "pygments_lexer": "ipython3",
   "version": "3.7.1"
  }
 },
 "nbformat": 4,
 "nbformat_minor": 2
}
